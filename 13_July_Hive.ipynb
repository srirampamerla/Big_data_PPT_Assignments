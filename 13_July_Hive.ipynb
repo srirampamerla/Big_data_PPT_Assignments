{
 "cells": [
  {
   "cell_type": "markdown",
   "id": "7ade1b7b-729a-4dbd-8031-364e5d9e75ca",
   "metadata": {},
   "source": [
    "1.  Write a Python program that uses the HiveQL language to create a table named \"Employees\" with columns for \"id,\" \"name,\" and \"salary.\"\n"
   ]
  },
  {
   "cell_type": "code",
   "execution_count": null,
   "id": "36195e9b-7779-4bad-8ed2-95490285ec52",
   "metadata": {},
   "outputs": [],
   "source": [
    "from pyhive import hive\n",
    "\n",
    "# Hive connection configuration\n",
    "hive_host = \"localhost\"\n",
    "hive_port = 10000\n",
    "hive_database = \"your_database\"\n",
    "\n",
    "# HiveQL query to create the table\n",
    "create_table_query = \"\"\"\n",
    "    CREATE TABLE Employees (\n",
    "        id INT,\n",
    "        name STRING,\n",
    "        salary FLOAT\n",
    "    )\n",
    "\"\"\"\n",
    "\n",
    "# Connect to Hive\n",
    "conn = hive.connect(host=hive_host, port=hive_port, database=hive_database)\n",
    "\n",
    "# Create the table\n",
    "with conn.cursor() as cursor:\n",
    "    cursor.execute(create_table_query)\n",
    "\n",
    "# Close the Hive connection\n",
    "conn.close()\n"
   ]
  },
  {
   "cell_type": "markdown",
   "id": "256a639b-fc3b-49bc-9c95-1e4781169682",
   "metadata": {},
   "source": [
    "2.  Create a Python program that retrieves records from a Hive table named \"Customers\" where the age is greater than 30.\n"
   ]
  },
  {
   "cell_type": "code",
   "execution_count": null,
   "id": "e15b623f-c6fc-4337-be6d-bb43632bb6d9",
   "metadata": {},
   "outputs": [],
   "source": [
    "from pyhive import hive\n",
    "\n",
    "# Hive connection configuration\n",
    "hive_host = \"localhost\"\n",
    "hive_port = 10000\n",
    "hive_database = \"your_database\"\n",
    "\n",
    "# HiveQL query to retrieve records\n",
    "retrieve_records_query = \"\"\"\n",
    "    SELECT * FROM Customers WHERE age > 30\n",
    "\"\"\"\n",
    "\n",
    "# Connect to Hive\n",
    "conn = hive.connect(host=hive_host, port=hive_port, database=hive_database)\n",
    "\n",
    "# Retrieve records\n",
    "with conn.cursor() as cursor:\n",
    "    cursor.execute(retrieve_records_query)\n",
    "    records = cursor.fetchall()\n",
    "\n",
    "# Print the retrieved records\n",
    "for record in records:\n",
    "    print(record)\n",
    "\n",
    "# Close the Hive connection\n",
    "conn.close()\n"
   ]
  },
  {
   "cell_type": "markdown",
   "id": "4ed8e1ff-35d8-4c80-b544-ce1a139f65ab",
   "metadata": {},
   "source": [
    "3.  Write a Python script that sorts records in descending order based on the \"timestamp\" column in a Hive table named \"Logs.\"\n"
   ]
  },
  {
   "cell_type": "code",
   "execution_count": null,
   "id": "892a0943-4c20-4e30-bcb9-a52b1d9d65c5",
   "metadata": {},
   "outputs": [],
   "source": [
    "from pyhive import hive\n",
    "\n",
    "# Hive connection configuration\n",
    "hive_host = \"localhost\"\n",
    "hive_port = 10000\n",
    "hive_database = \"your_database\"\n",
    "\n",
    "# HiveQL query to sort records\n",
    "sort_records_query = \"\"\"\n",
    "    SELECT * FROM Logs ORDER BY timestamp DESC\n",
    "\"\"\"\n",
    "\n",
    "# Connect to Hive\n",
    "conn = hive.connect(host=hive_host, port=hive_port, database=hive_database)\n",
    "\n",
    "# Sort and retrieve records\n",
    "with conn.cursor() as cursor:\n",
    "    cursor.execute(sort_records_query)\n",
    "    sorted_records = cursor.fetchall()\n",
    "\n",
    "# Print the sorted records\n",
    "for record in sorted_records:\n",
    "    print(record)\n",
    "\n",
    "# Close the Hive connection\n",
    "conn.close()\n"
   ]
  },
  {
   "cell_type": "markdown",
   "id": "0dae8df4-b1e0-470c-8670-cedda2a95633",
   "metadata": {},
   "source": [
    "4.  Write a Python program that connects to a Hive server using PyHive library and retrieves all records from a table named \"Products\".\n"
   ]
  },
  {
   "cell_type": "code",
   "execution_count": null,
   "id": "f5f09e17-da69-44fe-bd4e-3f59b93d7277",
   "metadata": {},
   "outputs": [],
   "source": [
    "from pyhive import hive\n",
    "\n",
    "# Hive connection configuration\n",
    "hive_host = \"localhost\"\n",
    "hive_port = 10000\n",
    "hive_database = \"your_database\"\n",
    "hive_table = \"Products\"\n",
    "\n",
    "# Connect to Hive\n",
    "conn = hive.Connection(host=hive_host, port=hive_port, database=hive_database)\n",
    "\n",
    "# Retrieve all records from the table\n",
    "query = f\"SELECT * FROM {hive_table}\"\n",
    "cursor = conn.cursor()\n",
    "cursor.execute(query)\n",
    "records = cursor.fetchall()\n",
    "\n",
    "# Print the retrieved records\n",
    "for record in records:\n",
    "    print(record)\n",
    "\n",
    "# Close the Hive connection\n",
    "conn.close()\n"
   ]
  },
  {
   "cell_type": "markdown",
   "id": "3f277f1a-995a-44bc-bd40-ecbbd643e9e3",
   "metadata": {},
   "source": [
    "5.  Write a Python script that calculates the average salary of employees from a Hive table named \"Employees\"."
   ]
  },
  {
   "cell_type": "code",
   "execution_count": null,
   "id": "205f5bbc-5069-43f1-ba17-685e6457c7ae",
   "metadata": {},
   "outputs": [],
   "source": [
    "from pyhive import hive\n",
    "\n",
    "# Hive connection configuration\n",
    "hive_host = \"localhost\"\n",
    "hive_port = 10000\n",
    "hive_database = \"your_database\"\n",
    "hive_table = \"Employees\"\n",
    "\n",
    "# Connect to Hive\n",
    "conn = hive.Connection(host=hive_host, port=hive_port, database=hive_database)\n",
    "\n",
    "# Calculate the average salary\n",
    "query = f\"SELECT AVG(salary) FROM {hive_table}\"\n",
    "cursor = conn.cursor()\n",
    "cursor.execute(query)\n",
    "result = cursor.fetchone()\n",
    "\n",
    "# Extract the average salary from the result\n",
    "average_salary = result[0]\n",
    "\n",
    "# Print the average salary\n",
    "print(\"Average Salary:\", average_salary)\n",
    "\n",
    "# Close the Hive connection\n",
    "conn.close()\n"
   ]
  },
  {
   "cell_type": "markdown",
   "id": "88fc2aa8-56be-4021-9723-7afc555ba506",
   "metadata": {},
   "source": [
    "6.  Implement a Python program that uses Hive partitioning to create a partitioned table named \"Sales_Data\" based on the \"year\" and \"month\" columns."
   ]
  },
  {
   "cell_type": "code",
   "execution_count": null,
   "id": "e0190283-3593-4529-a017-62120f3a8b59",
   "metadata": {},
   "outputs": [],
   "source": [
    "from pyhive import hive\n",
    "\n",
    "# Hive connection configuration\n",
    "hive_host = \"localhost\"\n",
    "hive_port = 10000\n",
    "hive_database = \"your_database\"\n",
    "\n",
    "# HiveQL query to create a partitioned table\n",
    "create_table_query = \"\"\"\n",
    "    CREATE TABLE Sales_Data (\n",
    "        -- columns...\n",
    "    )\n",
    "    PARTITIONED BY (year INT, month INT)\n",
    "\"\"\"\n",
    "\n",
    "# HiveQL query to add partitions\n",
    "add_partitions_query = \"\"\"\n",
    "    ALTER TABLE Sales_Data\n",
    "    ADD PARTITION (year=2022, month=1)\n",
    "    ADD PARTITION (year=2022, month=2)\n",
    "    ADD PARTITION (year=2022, month=3)\n",
    "    -- add more partitions as needed\n",
    "\"\"\"\n",
    "\n",
    "# Connect to Hive\n",
    "conn = hive.connect(host=hive_host, port=hive_port, database=hive_database)\n",
    "\n",
    "# Create the partitioned table\n",
    "with conn.cursor() as cursor:\n",
    "    cursor.execute(create_table_query)\n",
    "\n",
    "# Add partitions to the table\n",
    "with conn.cursor() as cursor:\n",
    "    cursor.execute(add_partitions_query)\n",
    "\n",
    "# Close the Hive connection\n",
    "conn.close()\n"
   ]
  },
  {
   "cell_type": "markdown",
   "id": "1754bc37-44a8-4081-8e33-d837ff8022a5",
   "metadata": {},
   "source": [
    "7.  Develop a Python script that adds a new column named \"email\" of type string to an existing Hive table named \"Employees.\"\n"
   ]
  },
  {
   "cell_type": "code",
   "execution_count": null,
   "id": "6256ec88-47c8-4c09-99cf-fbe07467201f",
   "metadata": {},
   "outputs": [],
   "source": [
    "from pyhive import hive\n",
    "\n",
    "# Hive connection configuration\n",
    "hive_host = \"localhost\"\n",
    "hive_port = 10000\n",
    "hive_database = \"your_database\"\n",
    "hive_table = \"Employees\"\n",
    "\n",
    "# HiveQL query to add a new column\n",
    "alter_table_query = f\"\"\"\n",
    "    ALTER TABLE {hive_table}\n",
    "    ADD COLUMNS (email STRING)\n",
    "\"\"\"\n",
    "\n",
    "# Connect to Hive\n",
    "conn = hive.Connection(host=hive_host, port=hive_port, database=hive_database)\n",
    "\n",
    "# Add the new column\n",
    "with conn.cursor() as cursor:\n",
    "    cursor.execute(alter_table_query)\n",
    "\n",
    "# Close the Hive connection\n",
    "conn.close()\n"
   ]
  },
  {
   "cell_type": "markdown",
   "id": "a6b9f127-2c96-489d-81dd-e4a5ca782563",
   "metadata": {},
   "source": [
    "8.  Create a Python program that performs an inner join between two Hive tables, \"Orders\" and \"Customers,\" based on a common column."
   ]
  },
  {
   "cell_type": "code",
   "execution_count": null,
   "id": "6b321aca-970c-4cc1-87fc-d70581042427",
   "metadata": {},
   "outputs": [],
   "source": [
    "from pyhive import hive\n",
    "\n",
    "# Hive connection configuration\n",
    "hive_host = \"localhost\"\n",
    "hive_port = 10000\n",
    "hive_database = \"your_database\"\n",
    "orders_table = \"Orders\"\n",
    "customers_table = \"Customers\"\n",
    "join_column = \"customer_id\"\n",
    "\n",
    "# HiveQL query for inner join\n",
    "join_query = f\"\"\"\n",
    "    SELECT *\n",
    "    FROM {orders_table} o\n",
    "    INNER JOIN {customers_table} c\n",
    "    ON o.{join_column} = c.{join_column}\n",
    "\"\"\"\n",
    "\n",
    "# Connect to Hive\n",
    "conn = hive.Connection(host=hive_host, port=hive_port, database=hive_database)\n",
    "\n",
    "# Perform inner join\n",
    "with conn.cursor() as cursor:\n",
    "    cursor.execute(join_query)\n",
    "    result = cursor.fetchall()\n",
    "\n",
    "# Print the join result\n",
    "for record in result:\n",
    "    print(record)\n",
    "\n",
    "# Close the Hive connection\n",
    "conn.close()\n"
   ]
  },
  {
   "cell_type": "markdown",
   "id": "73ff2c82-cfac-40b9-a20e-3a17984deb21",
   "metadata": {},
   "source": [
    "9.  Implement a Python program that uses the Hive SerDe library to process JSON data stored in a Hive table named \"User_Activity_Logs.\"\n"
   ]
  },
  {
   "cell_type": "code",
   "execution_count": null,
   "id": "9e3cddd7-e44f-4d89-be1d-bd8107b42577",
   "metadata": {},
   "outputs": [],
   "source": [
    "from pyhive import hive\n",
    "\n",
    "# Hive connection configuration\n",
    "hive_host = \"localhost\"\n",
    "hive_port = 10000\n",
    "hive_database = \"your_database\"\n",
    "hive_table = \"User_Activity_Logs\"\n",
    "\n",
    "# HiveQL query to process JSON data using the Hive SerDe library\n",
    "process_json_query = f\"\"\"\n",
    "    SELECT *\n",
    "    FROM {hive_table}\n",
    "\"\"\"\n",
    "\n",
    "# Connect to Hive\n",
    "conn = hive.Connection(host=hive_host, port=hive_port, database=hive_database)\n",
    "\n",
    "# Process JSON data\n",
    "with conn.cursor() as cursor:\n",
    "    cursor.execute(process_json_query)\n",
    "    result = cursor.fetchall()\n",
    "\n",
    "# Print the processed data\n",
    "for record in result:\n",
    "    print(record)\n",
    "\n",
    "# Close the Hive connection\n",
    "conn.close()\n"
   ]
  }
 ],
 "metadata": {
  "kernelspec": {
   "display_name": "Python 3 (ipykernel)",
   "language": "python",
   "name": "python3"
  },
  "language_info": {
   "codemirror_mode": {
    "name": "ipython",
    "version": 3
   },
   "file_extension": ".py",
   "mimetype": "text/x-python",
   "name": "python",
   "nbconvert_exporter": "python",
   "pygments_lexer": "ipython3",
   "version": "3.10.6"
  }
 },
 "nbformat": 4,
 "nbformat_minor": 5
}
