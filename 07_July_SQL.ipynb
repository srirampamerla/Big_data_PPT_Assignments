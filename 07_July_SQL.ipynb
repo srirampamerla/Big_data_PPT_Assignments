{
 "cells": [
  {
   "cell_type": "markdown",
   "id": "7b8dd849-d5d5-4f82-810b-6738d2cd7162",
   "metadata": {},
   "source": [
    "<h4>1. Write an SQL query to retrieve the names and email addresses of all employees from a table named \"Employees\".</h4>"
   ]
  },
  {
   "cell_type": "raw",
   "id": "384a7308-a81b-47d5-bf66-e36b3f649be6",
   "metadata": {},
   "source": [
    "Query: select names, email from employees;"
   ]
  },
  {
   "cell_type": "markdown",
   "id": "63b8f835-c95e-43ba-9c62-55ca136d4953",
   "metadata": {},
   "source": [
    "<h4>2. Write an SQL query to filter records from a table named \"Customers\" where the \"City\" column is 'New York'.</h4>"
   ]
  },
  {
   "cell_type": "markdown",
   "id": "883a93ec-d539-4a5c-aeab-5efd6b7df609",
   "metadata": {},
   "source": [
    "Query: select * from customers where city = 'New York';"
   ]
  },
  {
   "cell_type": "markdown",
   "id": "25efc0fb-a690-495b-b535-b5c830b0419c",
   "metadata": {},
   "source": [
    "<h4>3. Write an SQL query to sort records in descending order based on the \"DateOfBirth\" column in a table named \"Users\".</h4>\n"
   ]
  },
  {
   "cell_type": "markdown",
   "id": "730627fd-8a34-49ce-9362-8565c5cedb32",
   "metadata": {},
   "source": [
    "Query: select * from users order by DateOfBirth desc;"
   ]
  },
  {
   "cell_type": "markdown",
   "id": "b803b6c1-f3df-4980-b457-51aff12f69b9",
   "metadata": {},
   "source": [
    "<h4>4. Write an SQL query to sort records in ascending order based on the \"RegistrationDate\" column in a table named \"Users\".</h4>\n"
   ]
  },
  {
   "cell_type": "markdown",
   "id": "81d3bd0a-7337-4a74-94c9-40dcdd59d24e",
   "metadata": {},
   "source": [
    "Query: select * from users order by RegistrationDate asc;"
   ]
  },
  {
   "cell_type": "markdown",
   "id": "2aa2232e-6a89-43b3-b789-da52b4728bc7",
   "metadata": {},
   "source": [
    "<h4>5. Write an SQL query to find the employee with the highest salary from a table named \"Employees\" and display their name, position, and salary.</h4>"
   ]
  },
  {
   "cell_type": "markdown",
   "id": "993aa3f6-f61f-4dab-b176-fa384f05c4c3",
   "metadata": {},
   "source": [
    "Query: select name,position,salary from employees where salary = (select max(salary) from employees);"
   ]
  },
  {
   "cell_type": "markdown",
   "id": "ae440b84-91cf-4a1b-be83-f0361bb3865f",
   "metadata": {},
   "source": [
    "<h4>6. Write an SQL query to retrieve records from a table named \"Customers\" where the \"Phone\" column matches the pattern '+1-XXX-XXX-XXXX'.</h4>\n"
   ]
  },
  {
   "cell_type": "markdown",
   "id": "8c10de10-a172-42ab-985b-0f35a80c0349",
   "metadata": {},
   "source": [
    "Query: select * from customers where phone like '+1-XXX-XXX-XXXX';"
   ]
  },
  {
   "cell_type": "markdown",
   "id": "4d4e7f6e-f68f-48a3-b686-6ac1e2877675",
   "metadata": {},
   "source": [
    "<h4>7. Write an SQL query to retrieve the top 5 customers with the highest total purchase amount from a table named \"Orders\" and display their names and total purchase amounts.</h4>\n"
   ]
  },
  {
   "cell_type": "markdown",
   "id": "337043ee-1e11-4650-a46c-d209dbc8687e",
   "metadata": {},
   "source": [
    "Query: select c.name,sum(o.purchase_amount) as total_purchase amount from orders o join customers c on o.customer_id= c.customer_id\n",
    "group by c.id,c.name order by total_purchase_amount desc limit 5;\n"
   ]
  },
  {
   "cell_type": "markdown",
   "id": "54acf517-3135-4618-bfe4-752b549c23bc",
   "metadata": {},
   "source": [
    "<h4>8. Write an SQL query to calculate the percentage of sales for each product category in a table named \"Sales\" and display the category name, total sales amount, and the percentage of total sales.</h4>\n"
   ]
  },
  {
   "cell_type": "markdown",
   "id": "a77bce68-9272-4498-b328-be39bb8cae15",
   "metadata": {},
   "source": [
    "Query: SELECT category_name,SUM(sales_amount) AS total_sales_amount,(SUM(sales_amount) / (SELECT SUM(sales_amount) FROM Sales)) * 100 AS percentage_of_total_sales\n",
    "FROM Sales GROUP BY category_name;\n",
    "    \n"
   ]
  },
  {
   "cell_type": "markdown",
   "id": "2b8ce15e-2b16-4e0c-928a-5122d5b59976",
   "metadata": {},
   "source": [
    "<h4>9. Write an SQL query to find the customers who have made the highest total purchases across all years from a table named \"Orders\" and display their names, email addresses, and the total purchase amount.\n",
    "</h4>\n"
   ]
  },
  {
   "cell_type": "markdown",
   "id": "0d7aafb3-6dc8-4d27-8463-76a473c32b59",
   "metadata": {},
   "source": [
    "Query: SELECT c.name,c.email,SUM(o.purchase_amount) AS total_purchase_amount FROM orders o JOIN customers c ON o.customer_id = c.id\n",
    "GROUP BY c.id, c.name, c.email HAVING SUM(O.purchase_amount) = (SELECT MAX(total_purchase_amount)FROM (SELECT customer_id,SUM(purchase_amount) AS total_purchase_amount\n",
    "FROM orders GROUP BY  customer_id) AS subquery);\n"
   ]
  },
  {
   "cell_type": "code",
   "execution_count": null,
   "id": "f226bf02-9426-4507-905f-c8503be6929d",
   "metadata": {},
   "outputs": [],
   "source": []
  }
 ],
 "metadata": {
  "kernelspec": {
   "display_name": "Python 3 (ipykernel)",
   "language": "python",
   "name": "python3"
  },
  "language_info": {
   "codemirror_mode": {
    "name": "ipython",
    "version": 3
   },
   "file_extension": ".py",
   "mimetype": "text/x-python",
   "name": "python",
   "nbconvert_exporter": "python",
   "pygments_lexer": "ipython3",
   "version": "3.10.6"
  }
 },
 "nbformat": 4,
 "nbformat_minor": 5
}
