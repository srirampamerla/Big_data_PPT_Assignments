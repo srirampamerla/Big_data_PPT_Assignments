{
 "cells": [
  {
   "cell_type": "markdown",
   "id": "da1b572f-3eb7-422e-aedd-97960ad209c8",
   "metadata": {},
   "source": [
    "<h1>Assignment 1 - (Python)</h1>"
   ]
  },
  {
   "cell_type": "markdown",
   "id": "b49e7abc-1b8e-4cf2-8865-e66ab5671371",
   "metadata": {},
   "source": [
    "1. Write a Python program to check if a given string is an anagram."
   ]
  },
  {
   "cell_type": "code",
   "execution_count": 76,
   "id": "e0c077fb-a75f-4365-9fc4-a7760d0175d6",
   "metadata": {},
   "outputs": [],
   "source": [
    "# Anagram means str1 and str2 or num1 and num2 will have same set of values/character \n",
    "''' for example the letter's'is repeating 2 in str1 in str2 also we need to have 2 s characters no matter where the position is\n",
    "like letters in str1 and str2 settler\n",
    "In str1- 'l'-1, 'e'-2,'t'-2,'r'-1,'s'-1\n",
    "in str2- 'l'-1, 'e'-2,'t'-2,'r'-1,'s'-1'''\n",
    "def is_anagram(str1, str2):\n",
    "    # Convert the strings to lowercase and remove whitespace\n",
    "    str1 = str1.lower().replace(\" \", \"\")\n",
    "    str2 = str2.lower().replace(\" \", \"\")\n",
    "    # Check if the lengths of the strings are different\n",
    "    if len(str1) != len(str2):\n",
    "        return False\n",
    "\n",
    "    # Check if each character in str1 has the same count in str2\n",
    "    for char in str1:\n",
    "        if str1.count(char) != str2.count(char):\n",
    "            return False\n",
    "    return True"
   ]
  },
  {
   "cell_type": "code",
   "execution_count": 77,
   "id": "2b544c24-da58-49a6-9367-f720bdbf5171",
   "metadata": {},
   "outputs": [
    {
     "name": "stdout",
     "output_type": "stream",
     "text": [
      "listen and silent are anagrams.\n"
     ]
    }
   ],
   "source": [
    "string1 = \"listen\"\n",
    "string2 = \"silent\"\n",
    "if is_anagram(string1, string2):\n",
    "    print(f\"{string1} and {string2} are anagrams.\")\n",
    "else:\n",
    "    print(f\"{string1} and {string2} are not anagrams.\")"
   ]
  },
  {
   "cell_type": "code",
   "execution_count": 78,
   "id": "92fd9aab-6a90-4c52-8871-bb903930d723",
   "metadata": {},
   "outputs": [
    {
     "name": "stdout",
     "output_type": "stream",
     "text": [
      "Student in ineuron and bad rating are not anagrams.\n"
     ]
    }
   ],
   "source": [
    "string1 = \"Student in ineuron\"\n",
    "string2 = \"bad rating\"\n",
    "if is_anagram(string1, string2):\n",
    "    print(f\"{string1} and {string2} are anagrams.\")\n",
    "else:\n",
    "    print(f\"{string1} and {string2} are not anagrams.\")"
   ]
  },
  {
   "cell_type": "markdown",
   "id": "05456ac4-51ad-47d5-99e1-dfc8bc5da489",
   "metadata": {},
   "source": [
    "2. Write a Python program to find the maximum and minimum values in a dictionary."
   ]
  },
  {
   "cell_type": "code",
   "execution_count": 79,
   "id": "744eff10-d1d3-48e8-92c6-f42ad271d2f2",
   "metadata": {},
   "outputs": [],
   "source": [
    "def find_max_min(dictionary):\n",
    "    # Check if the dictionary is empty\n",
    "    if not dictionary:\n",
    "        return None\n",
    "    # Find the maximum and minimum values using max() and min() functions\n",
    "    ''' dictionary will have keyword to get values,keys,items'''\n",
    "    max_value = max(dictionary.values())\n",
    "    min_value = min(dictionary.values())\n",
    "    # return the maximum and mininum values\n",
    "    return max_value, min_value"
   ]
  },
  {
   "cell_type": "code",
   "execution_count": 80,
   "id": "e92b9197-c17d-490d-8558-a7f1c23201c5",
   "metadata": {},
   "outputs": [
    {
     "name": "stdout",
     "output_type": "stream",
     "text": [
      "Maximum value: 20\n",
      "Minimum value: 5\n"
     ]
    }
   ],
   "source": [
    "dict = {'a': 10, 'b': 5, 'c': 15, 'd': 20}\n",
    "result=find_max_min(dict)\n",
    "if result:\n",
    "    max_value, min_value = result\n",
    "    print(f\"Maximum value: {max_value}\")\n",
    "    print(f\"Minimum value: {min_value}\")\n",
    "else:\n",
    "    print(\"The dictionary is empty.\")\n"
   ]
  },
  {
   "cell_type": "code",
   "execution_count": 81,
   "id": "3a3f5de8-5473-4688-a9fb-a20aedfe1641",
   "metadata": {},
   "outputs": [
    {
     "name": "stdout",
     "output_type": "stream",
     "text": [
      "Maximum value: 20\n",
      "Minimum value: 5\n"
     ]
    }
   ],
   "source": [
    "dict = {'a': 10, 'b': 5, 'c': 15, 'd': 20,'e':11}\n",
    "result=find_max_min(dict)\n",
    "if result:\n",
    "    max_value, min_value = result\n",
    "    print(f\"Maximum value: {max_value}\")\n",
    "    print(f\"Minimum value: {min_value}\")\n",
    "else:\n",
    "    print(\"The dictionary is empty.\")"
   ]
  },
  {
   "cell_type": "markdown",
   "id": "19f0af75-a661-4463-97a6-5cc24b47e429",
   "metadata": {},
   "source": [
    "3. Write a Python program to find the average of a list of numbers."
   ]
  },
  {
   "cell_type": "code",
   "execution_count": 24,
   "id": "a8c5d7c7-7242-4325-b9ef-9876b27d98f8",
   "metadata": {},
   "outputs": [],
   "source": [
    "def calculate_average(numbers):\n",
    "    # Check if the list is empty\n",
    "    if not numbers:\n",
    "        return None\n",
    "    # calculate the average for the numbers in the list\n",
    "    average = sum(numbers) / len(numbers)\n",
    "    return average"
   ]
  },
  {
   "cell_type": "code",
   "execution_count": 25,
   "id": "3ddfb5b3-14c6-4be9-ba6e-352e9445454e",
   "metadata": {},
   "outputs": [
    {
     "name": "stdout",
     "output_type": "stream",
     "text": [
      "The average is: 15.0\n"
     ]
    }
   ],
   "source": [
    "my_list = [5, 10, 15, 20, 25]\n",
    "average = calculate_average(my_list)\n",
    "if average is not None:\n",
    "    print(f\"The average is: {average}\")\n",
    "else:\n",
    "    print(\"The list is empty.\")\n"
   ]
  },
  {
   "cell_type": "markdown",
   "id": "83261121-2345-466d-a83a-e847a97ae9b2",
   "metadata": {},
   "source": [
    "4. Write a Python program to remove all vowels from a string."
   ]
  },
  {
   "cell_type": "code",
   "execution_count": 82,
   "id": "4af3d3b9-cca1-4719-abbb-c8940a9470da",
   "metadata": {},
   "outputs": [],
   "source": [
    "def remove_vowels(string):\n",
    "    # Define a string containing all vowels\n",
    "    vowels = 'aeiouAEIOU'\n",
    "    # Initialize an empty string to store the result without vowels\n",
    "    without_vowels = ''  \n",
    "    \n",
    "    # Iterate over each character in the input string\n",
    "    for char in string:\n",
    "        # Check if the character is not a vowel\n",
    "        if char not in vowels: \n",
    "            # Append the character to the result string if not vowel\n",
    "            without_vowels += char  \n",
    "    \n",
    "    return without_vowels"
   ]
  },
  {
   "cell_type": "code",
   "execution_count": 83,
   "id": "2dc36c19-3f4c-4383-80ad-428a138b6dbf",
   "metadata": {},
   "outputs": [
    {
     "name": "stdout",
     "output_type": "stream",
     "text": [
      "String without vowels: Hll, Wrld!\n"
     ]
    }
   ],
   "source": [
    "my_string = 'Hello, World!'\n",
    "result = remove_vowels(my_string)\n",
    "print(\"String without vowels:\", result)"
   ]
  },
  {
   "cell_type": "code",
   "execution_count": 84,
   "id": "ccfd9bf7-8ee0-4ac2-8887-86111bd73f4c",
   "metadata": {},
   "outputs": [
    {
     "name": "stdout",
     "output_type": "stream",
     "text": [
      "String without vowels: Ths s pythn ssgnmnt-1 n bg dt\n"
     ]
    }
   ],
   "source": [
    "my_string = 'This is python assignment-1 in big data'\n",
    "result = remove_vowels(my_string)\n",
    "print(\"String without vowels:\", result)"
   ]
  },
  {
   "cell_type": "markdown",
   "id": "b4bb4259-df52-44fb-a20d-3e9ad2f921a8",
   "metadata": {},
   "source": [
    "5. Write a Python function to calculate the factorial of a number using recursion."
   ]
  },
  {
   "cell_type": "code",
   "execution_count": 85,
   "id": "3bd04649-f80b-41c4-a2d2-c68ae0827dd5",
   "metadata": {},
   "outputs": [],
   "source": [
    "def factorial(n):\n",
    "    # Base case: factorial of 0 or 1 will be 1\n",
    "    if n==0 or n==1:\n",
    "        return 1\n",
    "    else:\n",
    "        # recursively call one by one\n",
    "        ''' 5*fact(4)\n",
    "        5*4*fact(3)\n",
    "        5*4*3*fact(2)\n",
    "        5*4*3*2*fact(1)\n",
    "         5*4*3*2*1'''\n",
    "        return n*factorial(n-1)    "
   ]
  },
  {
   "cell_type": "code",
   "execution_count": 86,
   "id": "56bce17f-9de5-4944-89de-01588690b89b",
   "metadata": {},
   "outputs": [
    {
     "name": "stdout",
     "output_type": "stream",
     "text": [
      "The factorial of 5 is: 120\n"
     ]
    }
   ],
   "source": [
    "number = 5\n",
    "result = factorial(number)\n",
    "print(f\"The factorial of {number} is: {result}\")"
   ]
  },
  {
   "cell_type": "markdown",
   "id": "2f6a5a5c-58db-4584-abf3-3074ffd159fc",
   "metadata": {},
   "source": [
    "6. Write a Python program to merge two unsorted lists into a single sorted list using the merge sort algorithm."
   ]
  },
  {
   "cell_type": "code",
   "execution_count": 87,
   "id": "76f7a880-b443-4a76-9fd3-15dcf67b3745",
   "metadata": {},
   "outputs": [],
   "source": [
    "def merge_sort_merge(left, right):\n",
    "    merged = []  # Create an empty list to store the merged elements\n",
    "\n",
    "    while left and right:\n",
    "        # Compare the first elements of left and right lists\n",
    "        if left[0] < right[0]: \n",
    "            # Append the smaller element to the merged list and remove it from left list\n",
    "            merged.append(left.pop(0))  \n",
    "        else:\n",
    "             # Append the smaller element to the merged list and remove it from right list\n",
    "            merged.append(right.pop(0)) \n",
    "    # Append any remaining elements from the both non-empty list (left or right)\n",
    "    merged.extend(left)  \n",
    "    merged.extend(right)\n",
    "\n",
    "    return merged\n",
    "def merge_sort(lst):\n",
    "    #if the list has only one element, return the list\n",
    "    if len(lst) <= 1:  \n",
    "        return lst\n",
    "    # Divide the list into two halves\n",
    "    mid = len(lst) // 2  \n",
    "    # Recursively call merge sort on the left half\n",
    "    left = merge_sort(lst[:mid]) \n",
    "    # Recursively call merge sort on the right half\n",
    "    right = merge_sort(lst[mid:]) \n",
    "    # Merge the sorted left and right halves\n",
    "    return merge_sort_merge(left, right)  \n",
    "\n"
   ]
  },
  {
   "cell_type": "code",
   "execution_count": 88,
   "id": "7ca4d67e-3c56-4505-88cc-ecb5750f7e4c",
   "metadata": {},
   "outputs": [
    {
     "name": "stdout",
     "output_type": "stream",
     "text": [
      "[7, 2, 5, 1, 8, 9, 3, 6, 4]\n",
      "List 1: [7, 2, 5, 1, 8]\n",
      "List 2: [9, 3, 6, 4]\n",
      "Merged and Sorted List: [1, 2, 3, 4, 5, 6, 7, 8, 9]\n"
     ]
    }
   ],
   "source": [
    "# Example usage\n",
    "list1 = [7, 2, 5, 1, 8]\n",
    "list2 = [9, 3, 6, 4]\n",
    "\n",
    "# Merge the two unsorted lists into a single sorted list using merge sort\n",
    "print(list1+list2)\n",
    "merged_list = merge_sort(list1 + list2)\n",
    "\n",
    "\n",
    "print(\"List 1:\", list1)\n",
    "print(\"List 2:\", list2)\n",
    "print(\"Merged and Sorted List:\", merged_list)\n"
   ]
  },
  {
   "cell_type": "code",
   "execution_count": 89,
   "id": "e4c2cd67-3846-41f9-9e7f-953df2f37717",
   "metadata": {},
   "outputs": [
    {
     "name": "stdout",
     "output_type": "stream",
     "text": [
      "[7, 2, 5, 1, 8, 9, 11, 9, 3, 6, 4, 5, 19, 20, 55, 99]\n",
      "List 1: [7, 2, 5, 1, 8, 9, 11]\n",
      "List 2: [9, 3, 6, 4, 5, 19, 20, 55, 99]\n",
      "Merged and Sorted List: [1, 2, 3, 4, 5, 5, 6, 7, 8, 9, 9, 11, 19, 20, 55, 99]\n"
     ]
    }
   ],
   "source": [
    "# Example usage\n",
    "list1 = [7, 2, 5, 1, 8,9,11]\n",
    "list2 = [9, 3, 6, 4,5,19,20,55,99]\n",
    "\n",
    "# Merge the two unsorted lists into a single sorted list using merge sort\n",
    "print(list1+list2)\n",
    "merged_list = merge_sort(list1 + list2)\n",
    "\n",
    "\n",
    "print(\"List 1:\", list1)\n",
    "print(\"List 2:\", list2)\n",
    "print(\"Merged and Sorted List:\", merged_list)\n"
   ]
  },
  {
   "cell_type": "markdown",
   "id": "0889d480-90a0-4a10-bdeb-df6ec2de7722",
   "metadata": {},
   "source": [
    "7. Write a Python program to find the GCD (Greatest Common Divisor) of two numbers."
   ]
  },
  {
   "cell_type": "code",
   "execution_count": 90,
   "id": "4b9025e2-5fbe-4fa7-a86a-f84e40096154",
   "metadata": {},
   "outputs": [],
   "source": [
    "def gcd(a, b):\n",
    "    # Make a and b positive to ensure consistency in calculations\n",
    "    a = abs(a)\n",
    "    b = abs(b)\n",
    "    # Check if either a or b is zero    \n",
    "    if a == 0:\n",
    "        return b\n",
    "    if b == 0:\n",
    "        return a\n",
    "    while b != 0:\n",
    "        # Calculate the remainder using the modulo operator\n",
    "        # Set a to b and b to the remainder\n",
    "        a, b = b, a % b\n",
    "    return a"
   ]
  },
  {
   "cell_type": "code",
   "execution_count": 91,
   "id": "dcb9d79f-d346-40e3-ba5c-159d95261e9f",
   "metadata": {},
   "outputs": [
    {
     "name": "stdout",
     "output_type": "stream",
     "text": [
      "The GCD of -24 and 36 is: 12\n"
     ]
    }
   ],
   "source": [
    "num1 = -24\n",
    "num2 = 36\n",
    "\n",
    "result = gcd(num1, num2)\n",
    "print(\"The GCD of\", num1, \"and\", num2, \"is:\", result)\n"
   ]
  },
  {
   "cell_type": "code",
   "execution_count": 92,
   "id": "341c6b27-8313-441a-8bbb-ee09a23e9224",
   "metadata": {},
   "outputs": [
    {
     "name": "stdout",
     "output_type": "stream",
     "text": [
      "The GCD of 24 and 52 is: 4\n"
     ]
    }
   ],
   "source": [
    "num1 = 24\n",
    "num2 = 52\n",
    "\n",
    "result = gcd(num1, num2)\n",
    "print(\"The GCD of\", num1, \"and\", num2, \"is:\", result)\n"
   ]
  },
  {
   "cell_type": "code",
   "execution_count": 93,
   "id": "6f46677b-069f-4a5f-bc81-8204970a46ae",
   "metadata": {},
   "outputs": [
    {
     "name": "stdout",
     "output_type": "stream",
     "text": [
      "The GCD of 0 and 36 is: 36\n"
     ]
    }
   ],
   "source": [
    "num1 = 0\n",
    "num2 = 36\n",
    "\n",
    "result = gcd(num1, num2)\n",
    "print(\"The GCD of\", num1, \"and\", num2, \"is:\", result)\n"
   ]
  },
  {
   "cell_type": "code",
   "execution_count": 94,
   "id": "21a4fa6d-d11b-4f08-969b-2c32488215fb",
   "metadata": {},
   "outputs": [
    {
     "name": "stdout",
     "output_type": "stream",
     "text": [
      "The GCD of 24 and 0 is: 24\n"
     ]
    }
   ],
   "source": [
    "num1 = 24\n",
    "num2 = 0\n",
    "\n",
    "result = gcd(num1, num2)\n",
    "print(\"The GCD of\", num1, \"and\", num2, \"is:\", result)\n"
   ]
  },
  {
   "cell_type": "markdown",
   "id": "30ba897f-2216-4d03-9300-898dae4a0f06",
   "metadata": {},
   "source": [
    "8. Write a Python program to find the second-largest element in a list."
   ]
  },
  {
   "cell_type": "code",
   "execution_count": 65,
   "id": "873ea716-d88c-4d33-934c-19dad7747b49",
   "metadata": {},
   "outputs": [],
   "source": [
    "def find_second_largest(lst):\n",
    "    # Sort the list in descending order\n",
    "    sorted_list = sorted(lst, reverse=True)\n",
    "\n",
    "    # Return the second element in the sorted list\n",
    "    return sorted_list[1] if len(sorted_list) > 1 else None"
   ]
  },
  {
   "cell_type": "code",
   "execution_count": 66,
   "id": "20b431e9-1682-4c7e-848f-7d1a93ffdb69",
   "metadata": {},
   "outputs": [
    {
     "name": "stdout",
     "output_type": "stream",
     "text": [
      "The second-largest element in the list is: 8\n"
     ]
    }
   ],
   "source": [
    "numbers = [9, 3, 7, 1, 6, 2, 8, 5, 4]\n",
    "result = find_second_largest(numbers)\n",
    "if result is not None:\n",
    "    print(\"The second-largest element in the list is:\", result)\n",
    "else:\n",
    "    print(\"There is no second-largest element in the list.\")\n"
   ]
  },
  {
   "cell_type": "code",
   "execution_count": 67,
   "id": "e01177e4-7c37-4ea9-9d97-fcf828c5497e",
   "metadata": {},
   "outputs": [],
   "source": [
    "# without sort function\n",
    "def find_second_largest(lst):\n",
    "    largest = second_largest = float('-inf')\n",
    "\n",
    "    for num in lst:\n",
    "        if num > largest:\n",
    "            second_largest = largest\n",
    "            largest = num\n",
    "        elif num < largest and num > second_largest:\n",
    "            second_largest = num\n",
    "\n",
    "    return second_largest"
   ]
  },
  {
   "cell_type": "code",
   "execution_count": 69,
   "id": "7f39e5d7-c5bc-4070-b7fe-1e0456a04fe8",
   "metadata": {},
   "outputs": [
    {
     "name": "stdout",
     "output_type": "stream",
     "text": [
      "The second-largest element in the list is: 99\n"
     ]
    }
   ],
   "source": [
    "numbers = [9, 3, 7, 1, 6, 2, 8, 5, 4,11,12,99,101]\n",
    "result = find_second_largest(numbers)\n",
    "if result is not None:\n",
    "    print(\"The second-largest element in the list is:\", result)\n",
    "else:\n",
    "    print(\"There is no second-largest element in the list.\")\n"
   ]
  },
  {
   "cell_type": "markdown",
   "id": "07276695-4c85-4df3-ab2c-0f627082f326",
   "metadata": {},
   "source": [
    "9. Write a Python program to find the longest common subsequence between two strings using dynamic programming."
   ]
  },
  {
   "cell_type": "code",
   "execution_count": 72,
   "id": "4536bab6-7a16-4985-b424-4be6a60ca243",
   "metadata": {},
   "outputs": [],
   "source": [
    "def longest_common_subsequence(str1, str2):\n",
    "    m = len(str1)\n",
    "    n = len(str2)\n",
    "\n",
    "    # Create a table to store the lengths of LCS for subproblems\n",
    "    dp = [[0] * (n + 1) for _ in range(m + 1)]\n",
    "\n",
    "    # Fill the table using bottom-up dynamic programming\n",
    "    for i in range(m):\n",
    "        for j in range(n):\n",
    "            if str1[i] == str2[j]:\n",
    "                dp[i + 1][j + 1] = dp[i][j] + 1\n",
    "            else:\n",
    "                dp[i + 1][j + 1] = max(dp[i + 1][j], dp[i][j + 1])\n",
    "\n",
    "    # Retrieve the LCS by tracing back the table\n",
    "    lcs = \"\"\n",
    "    i, j = m, n\n",
    "    while i > 0 and j > 0:\n",
    "        if str1[i - 1] == str2[j - 1]:\n",
    "            lcs = str1[i - 1] + lcs\n",
    "            i -= 1\n",
    "            j -= 1\n",
    "        elif dp[i - 1][j] > dp[i][j - 1]:\n",
    "            i -= 1\n",
    "        else:\n",
    "            j -= 1\n",
    "\n",
    "    return lcs\n"
   ]
  },
  {
   "cell_type": "code",
   "execution_count": 71,
   "id": "b6b56960-d28f-4a3b-8c27-baeab1b2d9f5",
   "metadata": {},
   "outputs": [
    {
     "name": "stdout",
     "output_type": "stream",
     "text": [
      "The longest common subsequence is: ADH\n"
     ]
    }
   ],
   "source": [
    "string1 = \"ABCDGH\"\n",
    "string2 = \"AEDFHR\"\n",
    "\n",
    "result = longest_common_subsequence(string1, string2)\n",
    "print(\"The longest common subsequence is:\", result)\n"
   ]
  },
  {
   "cell_type": "code",
   "execution_count": null,
   "id": "e185d812-c288-41c2-b8f4-78b008af6e09",
   "metadata": {},
   "outputs": [],
   "source": []
  }
 ],
 "metadata": {
  "kernelspec": {
   "display_name": "Python 3 (ipykernel)",
   "language": "python",
   "name": "python3"
  },
  "language_info": {
   "codemirror_mode": {
    "name": "ipython",
    "version": 3
   },
   "file_extension": ".py",
   "mimetype": "text/x-python",
   "name": "python",
   "nbconvert_exporter": "python",
   "pygments_lexer": "ipython3",
   "version": "3.10.6"
  }
 },
 "nbformat": 4,
 "nbformat_minor": 5
}
